{
  "nbformat": 4,
  "nbformat_minor": 0,
  "metadata": {
    "colab": {
      "provenance": []
    },
    "kernelspec": {
      "name": "python3",
      "display_name": "Python 3"
    },
    "language_info": {
      "name": "python"
    }
  },
  "cells": [
    {
      "cell_type": "code",
      "source": [
        "import requests\n",
        "import csv\n",
        "from datetime import datetime\n",
        "\n",
        "# Fetch weather data\n",
        "def fetch_weather(city, api_key):\n",
        "    try:\n",
        "        url = f\"https://api.openweathermap.org/data/2.5/weather?q={city}&appid={api_key}&units=metric\"\n",
        "        response = requests.get(url)\n",
        "        response.raise_for_status()  # Raise error if response is not OK\n",
        "        return response.json()\n",
        "    except requests.RequestException as e:\n",
        "        print(f\"Error fetching weather: {e}\")\n",
        "        return None\n",
        "\n",
        "# Analyze the weather\n",
        "def analyze_weather(weather_data):\n",
        "    if not weather_data:\n",
        "        return \"No data available.\"\n",
        "\n",
        "    temp = weather_data['main']['temp']\n",
        "    wind = weather_data['wind']['speed']\n",
        "    humidity = weather_data['main']['humidity']\n",
        "\n",
        "    summary = \"Cold (≤10°C)\" if temp <= 10 else \"Mild (11-24°C)\" if temp <= 24 else \"Hot (≥25°C)\"\n",
        "\n",
        "    if wind > 10:\n",
        "        summary += \" | Strong wind\"\n",
        "    if humidity > 80:\n",
        "        summary += \" | Humid climate\"\n",
        "\n",
        "    return summary\n",
        "\n",
        "# Log to CSV\n",
        "def log_weather(city, filename):\n",
        "    api_key = \"7ed9f410e004bafd14189de007734338\"  # Replace with your actual API key\n",
        "    data = fetch_weather(city, api_key)\n",
        "\n",
        "    if data:\n",
        "        summary = analyze_weather(data)\n",
        "        with open(filename, 'a', newline='') as file:\n",
        "            writer = csv.writer(file)\n",
        "            writer.writerow([datetime.now(), city, data['main']['temp'], summary])\n",
        "        print(f\"Weather for {city} logged.\")\n",
        "\n",
        "log_weather(\"Kunnamkulam\", \"weather_details.csv\")\n"
      ],
      "metadata": {
        "colab": {
          "base_uri": "https://localhost:8080/"
        },
        "id": "e8E47U5jwgFW",
        "outputId": "50a90ed2-7364-4471-d1e1-9a18d0a02aed"
      },
      "execution_count": 4,
      "outputs": [
        {
          "output_type": "stream",
          "name": "stdout",
          "text": [
            "Weather for Kunnamkulam logged.\n"
          ]
        }
      ]
    }
  ]
}