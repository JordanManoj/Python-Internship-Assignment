{
  "nbformat": 4,
  "nbformat_minor": 0,
  "metadata": {
    "colab": {
      "provenance": []
    },
    "kernelspec": {
      "name": "python3",
      "display_name": "Python 3"
    },
    "language_info": {
      "name": "python"
    }
  },
  "cells": [
    {
      "cell_type": "code",
      "source": [
        "import numpy as np\n",
        "\n",
        "def process_students(file=\"students_sampledata.txt\", output=\"processed_results.txt\"):\n",
        "    try:\n",
        "        grades_map = lambda o: 'A' if o >= 90 else 'B' if o >= 75 else 'C' if o >= 60 else 'D' if o >= 50 else 'F'\n",
        "        data = []\n",
        "\n",
        "        with open(file) as f:\n",
        "            for line in f:\n",
        "                r, e, c = line.strip().split(',')\n",
        "                e, c = float(e), float(c)\n",
        "                o = e * 0.7 + c * 0.3\n",
        "                data.append((r, e, c, o, grades_map(o)))\n",
        "\n",
        "        arr = np.array(data, dtype=[('reg_no','U20'),('exam','f4'),('coursework','f4'),('overall','f4'),('grade','U2')])\n",
        "        arr = np.sort(arr, order='overall')[::-1]\n",
        "\n",
        "        with open(output, \"w\") as out:\n",
        "            for s in arr:\n",
        "                out.write(f\"{s['reg_no']},{s['overall']:.2f},{s['grade']}\\n\")\n",
        "\n",
        "        print(\"Grade Statistics:\")\n",
        "        for g in sorted(set(arr['grade'])):\n",
        "            print(f\"{g}: {(arr['grade'] == g).sum()} students\")\n",
        "\n",
        "    except Exception as e:\n",
        "        print(f\"Error: {e}\")\n",
        "\n",
        "process_students()\n"
      ],
      "metadata": {
        "colab": {
          "base_uri": "https://localhost:8080/"
        },
        "id": "e8E47U5jwgFW",
        "outputId": "7f2cba73-237a-4b4e-883c-c2fb7a3ff1cd"
      },
      "execution_count": 1,
      "outputs": [
        {
          "output_type": "stream",
          "name": "stdout",
          "text": [
            "Grade Statistics:\n",
            "A: 1 students\n",
            "B: 1 students\n",
            "C: 2 students\n",
            "F: 1 students\n"
          ]
        }
      ]
    }
  ]
}